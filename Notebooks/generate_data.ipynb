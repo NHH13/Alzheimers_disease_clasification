{
 "cells": [
  {
   "cell_type": "code",
   "execution_count": 5,
   "metadata": {},
   "outputs": [
    {
     "name": "stdout",
     "output_type": "stream",
     "text": [
      "Test data generated and saved to 'C:\\Users\\LENOVO\\OneDrive\\Documentos\\GitHub\\Alzheimers_disease_clasification\\Data_sample\\generated_test_data_extreme_1.csv'\n",
      "Test data generated and saved to 'C:\\Users\\LENOVO\\OneDrive\\Documentos\\GitHub\\Alzheimers_disease_clasification\\Data_sample\\generated_test_data_extreme_2.csv'\n",
      "Test data generated and saved to 'C:\\Users\\LENOVO\\OneDrive\\Documentos\\GitHub\\Alzheimers_disease_clasification\\Data_sample\\generated_test_data_extreme_3.csv'\n",
      "Test data generated and saved to 'C:\\Users\\LENOVO\\OneDrive\\Documentos\\GitHub\\Alzheimers_disease_clasification\\Data_sample\\generated_test_data_extreme_4.csv'\n",
      "Test data generated and saved to 'C:\\Users\\LENOVO\\OneDrive\\Documentos\\GitHub\\Alzheimers_disease_clasification\\Data_sample\\generated_test_data_extreme_5.csv'\n"
     ]
    }
   ],
   "source": [
    "import pandas as pd\n",
    "import numpy as np\n",
    "import random\n",
    "\n",
    "# Load the provided DataFrame\n",
    "df = pd.read_csv(r'C:\\Users\\LENOVO\\OneDrive\\Documentos\\GitHub\\Alzheimers_disease_clasification\\Data_sample\\alzheimers_disease_data.csv')\n",
    "\n",
    "# Function to generate a random value within a range\n",
    "def generate_random_value(value_range, extreme=False):\n",
    "    if extreme:\n",
    "        return random.choice([value_range[0], value_range[1]])\n",
    "    return random.uniform(value_range[0], value_range[1])\n",
    "\n",
    "# Function to generate a DataFrame with varied values including extremes\n",
    "def generate_test_data(df, num_samples=30, extreme=False):\n",
    "    data = {}\n",
    "\n",
    "    for col in df.columns:\n",
    "        if df[col].dtype in ['int64', 'float64']:\n",
    "            min_val = df[col].min()\n",
    "            max_val = df[col].max()\n",
    "            data[col] = [generate_random_value((min_val, max_val), extreme) for _ in range(num_samples)]\n",
    "        elif df[col].dtype == 'object':\n",
    "            unique_vals = df[col].unique()\n",
    "            data[col] = [random.choice(unique_vals) for _ in range(num_samples)]\n",
    "\n",
    "    return pd.DataFrame(data)\n",
    "\n",
    "# Generate 5 DataFrames with extreme values\n",
    "for i in range(5):\n",
    "    test_data = generate_test_data(df, extreme=True)\n",
    "    file_path = rf'C:\\Users\\LENOVO\\OneDrive\\Documentos\\GitHub\\Alzheimers_disease_clasification\\Data_sample\\generated_test_data_extreme_{i+1}.csv'\n",
    "    test_data.to_csv(file_path, index=False)\n",
    "    print(f\"Test data generated and saved to '{file_path}'\")\n"
   ]
  }
 ],
 "metadata": {
  "kernelspec": {
   "display_name": "Python 3",
   "language": "python",
   "name": "python3"
  },
  "language_info": {
   "codemirror_mode": {
    "name": "ipython",
    "version": 3
   },
   "file_extension": ".py",
   "mimetype": "text/x-python",
   "name": "python",
   "nbconvert_exporter": "python",
   "pygments_lexer": "ipython3",
   "version": "3.12.1"
  }
 },
 "nbformat": 4,
 "nbformat_minor": 2
}
